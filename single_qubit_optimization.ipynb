{
 "cells": [
  {
   "cell_type": "code",
   "execution_count": 15,
   "id": "0cfd87a7",
   "metadata": {},
   "outputs": [],
   "source": [
    "import numpy as np\n",
    "\n",
    "from qiskit import pulse\n",
    "from qiskit.test.mock import FakeArmonk\n",
    "from qiskit.providers.aer import PulseSimulator\n",
    "from qiskit.providers.aer.pulse import PulseSystemModel\n",
    "from qiskit.compiler import assemble\n",
    "from qiskit.pulse import DriveChannel\n",
    "\n",
    "armonk_backend = FakeArmonk()\n",
    "armonk_model = PulseSystemModel.from_backend(armonk_backend)\n",
    "channel = DriveChannel(0)\n",
    "backend_sim = PulseSimulator()\n",
    "\n",
    "num_shots = 1024\n",
    "\n",
    "def objective_function(amplitudes):\n",
    "    with pulse.build(armonk_backend) as x_sched:\n",
    "#          pulse.play([(2 * np.random.rand() - 1) for i in range(100)], channel)\n",
    "        new_amplitudes = []\n",
    "        for x in amplitudes:\n",
    "            if x > 1:\n",
    "                x = 1\n",
    "            if x < -1:\n",
    "                x = -1\n",
    "            new_amplitudes.append(x)\n",
    "        pulse.play(new_amplitudes, channel)\n",
    "\n",
    "    defaults = armonk_backend.defaults()\n",
    "    config = armonk_backend.configuration()\n",
    "    config.parametric_pulses=[]\n",
    "    inst_sched_map = defaults.instruction_schedule_map\n",
    "    measure = inst_sched_map.get('measure', qubits=config.meas_map[0])    \n",
    "    x_sched += measure << x_sched.duration\n",
    "    \n",
    "    x_qobj = assemble(x_sched,\n",
    "                  backend=backend_sim,\n",
    "                  meas_level=2,\n",
    "                  meas_return='single',\n",
    "                  shots=num_shots)\n",
    "    \n",
    "    sim_result = backend_sim.run(x_qobj, armonk_model).result()\n",
    "    counts = sim_result.get_counts()\n",
    "    num_zeros = counts['0'] if '0' in counts else 0\n",
    "    num_ones = counts['1'] if '1' in counts else 0 \n",
    "    exp_val = (num_zeros - num_ones) / num_shots\n",
    "    \n",
    "    return exp_val"
   ]
  },
  {
   "cell_type": "code",
   "execution_count": 16,
   "id": "cf64f1b0",
   "metadata": {},
   "outputs": [
    {
     "name": "stderr",
     "output_type": "stream",
     "text": [
      "<ipython-input-15-9f7dfa404b69>:42: DeprecationWarning: Passing `system_model` as a positional argument to `PulseSimulator.run` has been deprecated as of qiskit-aer 0.7.0 and will be removed no earlier than 3 months from that release date. Pass `system_model` as a kwarg `system_model=model` instead.\n",
      "  sim_result = backend_sim.run(x_qobj, armonk_model).result()\n"
     ]
    },
    {
     "data": {
      "text/plain": [
       "0.974609375"
      ]
     },
     "execution_count": 16,
     "metadata": {},
     "output_type": "execute_result"
    }
   ],
   "source": [
    "objective_function([(2 * np.random.rand() - 1) for i in range(100)])"
   ]
  },
  {
   "cell_type": "code",
   "execution_count": 19,
   "id": "d12c7b41",
   "metadata": {},
   "outputs": [
    {
     "name": "stderr",
     "output_type": "stream",
     "text": [
      "<ipython-input-15-9f7dfa404b69>:42: DeprecationWarning: Passing `system_model` as a positional argument to `PulseSimulator.run` has been deprecated as of qiskit-aer 0.7.0 and will be removed no earlier than 3 months from that release date. Pass `system_model` as a kwarg `system_model=model` instead.\n",
      "  sim_result = backend_sim.run(x_qobj, armonk_model).result()\n"
     ]
    },
    {
     "name": "stdout",
     "output_type": "stream",
     "text": [
      "(array([1.34923309, 1.69069282, 0.79893278, 1.83111558, 0.05015779,\n",
      "       0.18822712, 1.84610588, 1.18234923, 1.25799425, 1.46921837,\n",
      "       0.33898126, 0.86461043, 0.18700815, 1.86644592, 0.59660614,\n",
      "       1.43991822, 0.53326173, 0.61902726, 0.99251688, 0.80971138,\n",
      "       0.44728151, 0.64962727, 0.94120079, 0.96686075, 0.2597324 ,\n",
      "       0.75577932, 0.93231129, 0.38628687, 0.17772601, 0.23907421,\n",
      "       0.68047798, 0.71858744, 0.29223335, 0.06332095, 0.77519502,\n",
      "       0.60432308, 0.13063246, 0.70301744, 0.48882472, 0.8558778 ,\n",
      "       0.66104966, 0.22762655, 0.56980278, 0.50158693, 0.1817813 ,\n",
      "       0.62211066, 0.97097953, 0.08690915, 0.5667201 , 0.02830087]), 0.732421875, 384)\n"
     ]
    }
   ],
   "source": [
    "from qiskit.aqua.components.optimizers import COBYLA\n",
    "\n",
    "# Initialize the COBYLA optimizer\n",
    "optimizer = COBYLA(maxiter=500, tol=0.0001)\n",
    "\n",
    "# Create the initial parameters (noting that our single qubit variational form has 3 parameters)\n",
    "params = np.random.rand(50)\n",
    "ret = optimizer.optimize(num_vars=50, objective_function=objective_function, initial_point=params)\n",
    "\n",
    "print(ret)\n",
    "\n",
    "# # Obtain the output distribution using the final parameters\n",
    "# qc = get_var_form(ret[0])\n",
    "# t_qc = transpile(qc, backend)\n",
    "# qobj = assemble(t_qc, shots=NUM_SHOTS)\n",
    "# counts = backend.run(qobj).result().get_counts(qc)\n",
    "# output_distr = get_probability_distribution(counts)\n",
    "\n",
    "# print(\"Target Distribution:\", target_distr)\n",
    "# print(\"Obtained Distribution:\", output_distr)\n",
    "# print(\"Output Error (Manhattan Distance):\", ret[1])\n",
    "# print(\"Parameters Found:\", ret[0])"
   ]
  },
  {
   "cell_type": "code",
   "execution_count": 58,
   "id": "84474fd8",
   "metadata": {},
   "outputs": [],
   "source": [
    "backend_sim = PulseSimulator()\n",
    "\n",
    "x_qobj = assemble(x_sched,\n",
    "                  backend=backend_sim,\n",
    "                  meas_level=2,\n",
    "                  meas_return='single',\n",
    "                  shots=512)"
   ]
  },
  {
   "cell_type": "code",
   "execution_count": 59,
   "id": "0645b397",
   "metadata": {},
   "outputs": [
    {
     "name": "stdout",
     "output_type": "stream",
     "text": [
      "{'0': 505, '1': 7}\n"
     ]
    },
    {
     "name": "stderr",
     "output_type": "stream",
     "text": [
      "<ipython-input-59-b8842ee6b3d0>:1: DeprecationWarning: Passing `system_model` as a positional argument to `PulseSimulator.run` has been deprecated as of qiskit-aer 0.7.0 and will be removed no earlier than 3 months from that release date. Pass `system_model` as a kwarg `system_model=model` instead.\n",
      "  sim_result = backend_sim.run(x_qobj, armonk_model).result()\n",
      "C:\\Users\\rdras\\anaconda3\\envs\\plvqe_venv\\lib\\site-packages\\qiskit\\providers\\aer\\pulse\\controllers\\pulse_controller.py:142: UserWarning: Warning: qubit_lo_freq was not specified in PulseQobj and there is no default, so it is beign automatically determined from the drift Hamiltonian.\n",
      "  warn('Warning: qubit_lo_freq was not specified in PulseQobj and there is no default, '\n"
     ]
    }
   ],
   "source": [
    "sim_result = backend_sim.run(x_qobj, armonk_model).result()\n",
    "print(sim_result.get_counts())"
   ]
  },
  {
   "cell_type": "code",
   "execution_count": null,
   "id": "6741a008",
   "metadata": {},
   "outputs": [],
   "source": [
    "defaults = backend.defaults()\n",
    "config = backend.configuration()\n",
    "config.parametric_pulses=[]\n",
    "inst_sched_map = defaults.instruction_schedule_map\n",
    "measure = inst_sched_map.get('measure', qubits=config.meas_map[0])\n"
   ]
  }
 ],
 "metadata": {
  "kernelspec": {
   "display_name": "plvqe_venv",
   "language": "python",
   "name": "plvqe_venv"
  },
  "language_info": {
   "codemirror_mode": {
    "name": "ipython",
    "version": 3
   },
   "file_extension": ".py",
   "mimetype": "text/x-python",
   "name": "python",
   "nbconvert_exporter": "python",
   "pygments_lexer": "ipython3",
   "version": "3.8.8"
  }
 },
 "nbformat": 4,
 "nbformat_minor": 5
}
