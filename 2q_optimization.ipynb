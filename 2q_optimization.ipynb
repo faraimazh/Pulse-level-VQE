{
 "cells": [
  {
   "cell_type": "code",
   "execution_count": 26,
   "id": "5900d67c",
   "metadata": {},
   "outputs": [],
   "source": [
    "from qiskit import pulse\n",
    "from qiskit.test.mock import FakeOpenPulse2Q\n",
    "from qiskit.providers.aer import PulseSimulator\n",
    "from qiskit.providers.aer.pulse import PulseSystemModel\n",
    "from qiskit.pulse import DriveChannel, MeasureChannel, ControlChannel\n",
    "from qiskit.quantum_info import Statevector\n",
    "from qiskit.compiler import assemble"
   ]
  },
  {
   "cell_type": "code",
   "execution_count": 27,
   "id": "f10eb4a4",
   "metadata": {},
   "outputs": [],
   "source": [
    "backend = FakeOpenPulse2Q()\n",
    "backend_model = PulseSystemModel.from_backend(backend)\n",
    "d0 = DriveChannel(0)\n",
    "d1 = DriveChannel(1)\n",
    "c1 = ControlChannel(1)\n",
    "m0 = MeasureChannel(0)\n",
    "m1 = MeasureChannel(1)\n",
    "backend_sim = PulseSimulator()"
   ]
  },
  {
   "cell_type": "markdown",
   "id": "ec97abe0",
   "metadata": {},
   "source": [
    "# Calibrate X gates"
   ]
  },
  {
   "cell_type": "code",
   "execution_count": null,
   "id": "f0941d38",
   "metadata": {},
   "outputs": [],
   "source": []
  },
  {
   "cell_type": "markdown",
   "id": "00d9cc4b",
   "metadata": {},
   "source": [
    "# Run X gate"
   ]
  },
  {
   "cell_type": "code",
   "execution_count": 45,
   "id": "c882b11b",
   "metadata": {},
   "outputs": [],
   "source": [
    "with pulse.build(backend) as schedule:\n",
    "        pulse.play(pulse.Gaussian(duration=40,\n",
    "                                  sigma=10,\n",
    "                                  amp=0.864061), d0)\n",
    "        pulse.delay(40, c1)\n",
    "#         pulse.play(pulse.GaussianSquare(duration=100, \n",
    "#                                         amp=(0.10724654759673444-0.2144565209171401j), \n",
    "#                                         sigma=10, \n",
    "#                                         width=10), c1)\n",
    "        pulse.delay(140, m0)\n",
    "        pulse.delay(140, m1)\n",
    "        pulse.measure(0)\n",
    "        pulse.measure(1)"
   ]
  },
  {
   "cell_type": "code",
   "execution_count": 46,
   "id": "bba95b45",
   "metadata": {},
   "outputs": [
    {
     "data": {
      "image/png": "[encoded data removed]",
      "text/plain": [
       "<Figure size 936x356.4 with 1 Axes>"
      ]
     },
     "execution_count": 46,
     "metadata": {},
     "output_type": "execute_result"
    }
   ],
   "source": [
    "schedule.draw()"
   ]
  },
  {
   "cell_type": "code",
   "execution_count": 47,
   "id": "134a80bd",
   "metadata": {},
   "outputs": [
    {
     "name": "stderr",
     "output_type": "stream",
     "text": [
      "C:\\Users\\rdras\\anaconda3\\envs\\plvqe_venv\\lib\\site-packages\\qiskit\\providers\\aer\\pulse\\controllers\\pulse_controller.py:142: UserWarning: Warning: qubit_lo_freq was not specified in PulseQobj and there is no default, so it is beign automatically determined from the drift Hamiltonian.\n",
      "  warn('Warning: qubit_lo_freq was not specified in PulseQobj and there is no default, '\n"
     ]
    }
   ],
   "source": [
    "qobj = assemble(schedule,\n",
    "                backend=backend_sim)\n",
    "result = backend_sim.run(qobj, \n",
    "                         system_model=backend_model).result()"
   ]
  },
  {
   "cell_type": "code",
   "execution_count": 48,
   "id": "eae94057",
   "metadata": {},
   "outputs": [
    {
     "data": {
      "text/plain": [
       "{'00': 4, '01': 1014, '10': 6}"
      ]
     },
     "execution_count": 48,
     "metadata": {},
     "output_type": "execute_result"
    }
   ],
   "source": [
    "sv = result.get_statevector()\n",
    "sv = Statevector(sv, dims=(3, 3))\n",
    "sv.sample_counts(1024)"
   ]
  },
  {
   "cell_type": "code",
   "execution_count": null,
   "id": "495cf646",
   "metadata": {},
   "outputs": [],
   "source": []
  },
  {
   "cell_type": "code",
   "execution_count": null,
   "id": "8bae6580",
   "metadata": {},
   "outputs": [],
   "source": []
  }
 ],
 "metadata": {
  "kernelspec": {
   "display_name": "plvqe_venv",
   "language": "python",
   "name": "plvqe_venv"
  },
  "language_info": {
   "codemirror_mode": {
    "name": "ipython",
    "version": 3
   },
   "file_extension": ".py",
   "mimetype": "text/x-python",
   "name": "python",
   "nbconvert_exporter": "python",
   "pygments_lexer": "ipython3",
   "version": "3.8.8"
  }
 },
 "nbformat": 4,
 "nbformat_minor": 5
}
